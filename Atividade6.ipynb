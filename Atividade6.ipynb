{
 "cells": [
  {
   "cell_type": "code",
   "execution_count": 29,
   "metadata": {},
   "outputs": [
    {
     "data": {
      "text/plain": [
       "45"
      ]
     },
     "execution_count": 29,
     "metadata": {},
     "output_type": "execute_result"
    }
   ],
   "source": [
    "#Exercicio 1\n",
    "def soma_nat(numero):\n",
    "    return numero if numero == 0 else numero + soma_nat(numero - 1)\n",
    "\n",
    "numero = 9\n",
    "soma_nat(numero)"
   ]
  },
  {
   "cell_type": "code",
   "execution_count": 2,
   "metadata": {},
   "outputs": [
    {
     "data": {
      "text/plain": [
       "2"
      ]
     },
     "execution_count": 2,
     "metadata": {},
     "output_type": "execute_result"
    }
   ],
   "source": [
    "#Exercicio 2 \n",
    "def div(m, n):\n",
    "    return 0 if m < n else 1 + div(m - n, n)\n",
    "\n",
    "div(5,2)"
   ]
  },
  {
   "cell_type": "code",
   "execution_count": 28,
   "metadata": {},
   "outputs": [
    {
     "data": {
      "text/plain": [
       "5"
      ]
     },
     "execution_count": 28,
     "metadata": {},
     "output_type": "execute_result"
    }
   ],
   "source": [
    "#Exercicio 3\n",
    "def prim_alg(n):\n",
    "    return n if n < 10 else prim_alg(int(n / 10))\n",
    "\n",
    "prim_alg(5649)"
   ]
  },
  {
   "cell_type": "code",
   "execution_count": 27,
   "metadata": {},
   "outputs": [
    {
     "data": {
      "text/plain": [
       "720"
      ]
     },
     "execution_count": 27,
     "metadata": {},
     "output_type": "execute_result"
    }
   ],
   "source": [
    "#Exercicio 4\n",
    "def prod_lista(numeros):\n",
    "    length = len(numeros)\n",
    "    return numeros[0] if length <= 1 else numeros[0] * prod_lista(numeros[1:])\n",
    "\n",
    "lst =[1,2,3,4,5,6]\n",
    "prod_lista(lst)"
   ]
  },
  {
   "cell_type": "code",
   "execution_count": 30,
   "metadata": {},
   "outputs": [
    {
     "name": "stdout",
     "output_type": "stream",
     "text": [
      "True\n",
      "False\n",
      "False\n",
      "True\n"
     ]
    },
    {
     "data": {
      "text/plain": [
       "True"
      ]
     },
     "execution_count": 30,
     "metadata": {},
     "output_type": "execute_result"
    }
   ],
   "source": [
    "#Exercicio 5\n",
    "def contem_parQ(w):\n",
    "    result = False if len(w) == 0 or (w[len(w) - 1] % 2 != 0 and not contem_parQ(w[:-1])) else True\n",
    "    return result\n",
    "\n",
    "print(contem_parQ([2,3,1,2,3,4]))\n",
    "print(contem_parQ([1,3,5,7]))\n",
    "print(contem_parQ([1,5,7]))\n",
    "print(contem_parQ([1,5,7,2]))\n",
    "\n",
    "contem_parQ([1,5,7])\n",
    "contem_parQ([1,5,7,2])\n",
    "\n",
    "\n",
    "\n",
    "#Se chamar o metodo duas vezes sem estar no print então ele sobrepoem hmm interessante "
   ]
  },
  {
   "cell_type": "code",
   "execution_count": 18,
   "metadata": {},
   "outputs": [
    {
     "name": "stdout",
     "output_type": "stream",
     "text": [
      "True\n",
      "True\n",
      "False\n"
     ]
    }
   ],
   "source": [
    "#Exercicio 6\n",
    "def todos_imparesQ(w):\n",
    "    res = True if len(w)==0 or w[len(w) -1]%2 !=0 and todos_imparesQ(w[:-1]) else False\n",
    "    return res\n",
    "print(todos_imparesQ([1,3,5,7]))\n",
    "print(todos_imparesQ([1,5,7]))\n",
    "print(todos_imparesQ([1,2]))"
   ]
  },
  {
   "cell_type": "code",
   "execution_count": 25,
   "metadata": {},
   "outputs": [
    {
     "name": "stdout",
     "output_type": "stream",
     "text": [
      "True\n",
      "True\n",
      "False\n",
      "False\n"
     ]
    },
    {
     "data": {
      "text/plain": [
       "False"
      ]
     },
     "execution_count": 25,
     "metadata": {},
     "output_type": "execute_result"
    }
   ],
   "source": [
    "#Exercicio 7\n",
    "def pertenceQ(w, n):\n",
    "    result = False if len(w)==0 or w[0] != n and not pertenceQ(w[1:],n) else True\n",
    "    return result\n",
    "    \n",
    "print(pertenceQ([1,2,3], 1))\n",
    "print(pertenceQ([1,2,3], 2))\n",
    "print(pertenceQ([1,2,3], 5))\n",
    "print(pertenceQ([1,2,3], 4))"
   ]
  },
  {
   "cell_type": "code",
   "execution_count": 33,
   "metadata": {},
   "outputs": [
    {
     "data": {
      "text/plain": [
       "[1, 2, 3, 3, 4, 5, 6]"
      ]
     },
     "execution_count": 33,
     "metadata": {},
     "output_type": "execute_result"
    }
   ],
   "source": [
    "#Exercicio 8 se pa que ta errado\n",
    "def junta(w1,w2):\n",
    "    return w1+w2\n",
    "\n",
    "junta([1,2,3],[3,4,5,6])"
   ]
  },
  {
   "cell_type": "code",
   "execution_count": 31,
   "metadata": {},
   "outputs": [
    {
     "name": "stdout",
     "output_type": "stream",
     "text": [
      "Só Deus na causa\n"
     ]
    }
   ],
   "source": [
    "#Exercicio 9\n",
    "print(\"Só Deus na causa\")"
   ]
  },
  {
   "cell_type": "code",
   "execution_count": 32,
   "metadata": {},
   "outputs": [
    {
     "data": {
      "text/plain": [
       "[5, 4, 3, 2, 1]"
      ]
     },
     "execution_count": 32,
     "metadata": {},
     "output_type": "execute_result"
    }
   ],
   "source": [
    "#Exercicio 10\n",
    "def inverteLista(lista):\n",
    "    return lista[::-1]\n",
    "\n",
    "inverteLista([1,2,3,4,5])"
   ]
  },
  {
   "cell_type": "code",
   "execution_count": null,
   "metadata": {},
   "outputs": [],
   "source": []
  }
 ],
 "metadata": {
  "kernelspec": {
   "display_name": "Python 3",
   "language": "python",
   "name": "python3"
  },
  "language_info": {
   "codemirror_mode": {
    "name": "ipython",
    "version": 3
   },
   "file_extension": ".py",
   "mimetype": "text/x-python",
   "name": "python",
   "nbconvert_exporter": "python",
   "pygments_lexer": "ipython3",
   "version": "3.7.6"
  }
 },
 "nbformat": 4,
 "nbformat_minor": 4
}
