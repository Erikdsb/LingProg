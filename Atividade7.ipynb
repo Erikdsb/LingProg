{
 "cells": [
  {
   "cell_type": "code",
   "execution_count": 7,
   "metadata": {},
   "outputs": [
    {
     "data": {
      "text/plain": [
       "6"
      ]
     },
     "execution_count": 7,
     "metadata": {},
     "output_type": "execute_result"
    }
   ],
   "source": [
    "#Exercicio 1\n",
    "soma_nat = lambda num : 1 if num == 1 else num + soma_nat(num - 1)\n",
    "soma_nat(3)"
   ]
  },
  {
   "cell_type": "code",
   "execution_count": 9,
   "metadata": {},
   "outputs": [
    {
     "name": "stdout",
     "output_type": "stream",
     "text": [
      "3\n",
      "1\n"
     ]
    }
   ],
   "source": [
    "#Excercicio 2\n",
    "div = lambda m, n: 0 if m < n else 1 + div(m - n,n)\n",
    "\n",
    "print(div(7,2))\n",
    "print(div(5,3))"
   ]
  },
  {
   "cell_type": "code",
   "execution_count": 10,
   "metadata": {},
   "outputs": [
    {
     "name": "stdout",
     "output_type": "stream",
     "text": [
      "5\n",
      "7\n"
     ]
    }
   ],
   "source": [
    "#Exercicio 3\n",
    "prim_alg = lambda x: x if x < 10 else prim_alg(int(x / 10))\n",
    "\n",
    "print(prim_alg(5649))\n",
    "print(prim_alg(7))"
   ]
  },
  {
   "cell_type": "code",
   "execution_count": 11,
   "metadata": {},
   "outputs": [
    {
     "name": "stdout",
     "output_type": "stream",
     "text": [
      "720\n",
      "6\n"
     ]
    }
   ],
   "source": [
    "#Exercicio 4\n",
    "prod_lista = lambda numeros: numeros[0] if len(numeros) <= 1 else numeros[0]*prod_lista(numeros[1:])\n",
    "print(prod_lista([1,2,3,4,5,6]))\n",
    "print(prod_lista([1,2,3]))"
   ]
  },
  {
   "cell_type": "code",
   "execution_count": 4,
   "metadata": {},
   "outputs": [
    {
     "name": "stdout",
     "output_type": "stream",
     "text": [
      "True\n",
      "False\n"
     ]
    }
   ],
   "source": [
    "#Exercicio 5\n",
    "assert(contem_parQ([2,3,1,2,3,4]) == True)\n",
    "assert(contem_parQ([1,3,5,7]) == False)\n",
    "\n",
    "print(contem_parQ([2,3,1,2,3,4]))\n",
    "print(contem_parQ([1,3,5,7]))"
   ]
  },
  {
   "cell_type": "code",
   "execution_count": 5,
   "metadata": {},
   "outputs": [
    {
     "name": "stdout",
     "output_type": "stream",
     "text": [
      "True\n",
      "True\n",
      "False\n"
     ]
    }
   ],
   "source": [
    "#Exercicio 6\n",
    "\n",
    "todos_imparesQ = lambda w: True if len(w) == 0 or (w[len(w) - 1] % 2 != 0 and todos_imparesQ(w[:-1])) else False\n",
    "\n",
    "assert(todos_imparesQ([1,3,5,7]) == True)\n",
    "assert(todos_imparesQ([]) == True)\n",
    "assert(todos_imparesQ([1,2,3,4,5]) == False)\n",
    "\n",
    "print(todos_imparesQ([1,3,5,7]))\n",
    "print(todos_imparesQ([]))\n",
    "print(todos_imparesQ([1,2,3,4,5]))"
   ]
  },
  {
   "cell_type": "code",
   "execution_count": 6,
   "metadata": {},
   "outputs": [
    {
     "name": "stdout",
     "output_type": "stream",
     "text": [
      "True\n",
      "True\n",
      "True\n",
      "False\n"
     ]
    }
   ],
   "source": [
    "#Exercicio 7\n",
    "pertenceQ = lambda w, n : True if n in w else False\n",
    "\n",
    "assert(pertenceQ([1,2,3],1) == True)\n",
    "assert(pertenceQ([1,2,3],2) == True)\n",
    "assert(pertenceQ([1,2,3],3) == True)\n",
    "assert(pertenceQ([1,2,3],4) == False)\n",
    "\n",
    "print(pertenceQ([1,2,3],1))\n",
    "print(pertenceQ([1,2,3],2))\n",
    "print(pertenceQ([1,2,3],3))\n",
    "print(pertenceQ([1,2,3],4))"
   ]
  },
  {
   "cell_type": "code",
   "execution_count": 7,
   "metadata": {},
   "outputs": [
    {
     "name": "stdout",
     "output_type": "stream",
     "text": [
      "[1, 2, 3, 4, 5, 6]\n",
      "[4, 5, 6]\n",
      "[1, 2, 3]\n"
     ]
    }
   ],
   "source": [
    "#Exercicio 8\n",
    "junta = lambda w1, w2: w1 + w2\n",
    "\n",
    "assert(junta([1,2,3],[4,5,6]) == [1, 2, 3, 4, 5, 6] )\n",
    "assert(junta([],[4,5,6]) == [4, 5, 6] )\n",
    "assert(junta([1,2,3],[]) == [1, 2, 3])\n",
    "\n",
    "print(junta([1,2,3],[4,5,6]))\n",
    "print(junta([],[4,5,6]))\n",
    "print(junta([1,2,3],[]))"
   ]
  },
  {
   "cell_type": "code",
   "execution_count": 8,
   "metadata": {},
   "outputs": [
    {
     "name": "stdout",
     "output_type": "stream",
     "text": [
      "Nem Deus na causa\n"
     ]
    }
   ],
   "source": [
    "#Exercicio 9 choremos\n",
    "print(\"Nem Deus na causa\")"
   ]
  },
  {
   "cell_type": "code",
   "execution_count": 13,
   "metadata": {},
   "outputs": [
    {
     "name": "stdout",
     "output_type": "stream",
     "text": [
      "inverteLista([1,2,3,4,5]) = [5, 4, 3, 2, 1]\n",
      "inverteLista([5,5,5]) = [5, 5, 5]\n"
     ]
    }
   ],
   "source": [
    "#Exercicio 10 KKKKKKKKKKKKKKKK\n",
    "inverteLista\n",
    "\n",
    "inverteLista([1,2,3,4,5])\n",
    "inverteLista([5,5,5]) == [5, 5, 5])\n",
    "\n",
    "print('inverteLista([1,2,3,4,5]) =',inverteLista([1,2,3,4,5]))\n",
    "print('inverteLista([5,5,5]) =',inverteLista([5,5,5]))"
   ]
  },
  {
   "cell_type": "code",
   "execution_count": null,
   "metadata": {},
   "outputs": [],
   "source": []
  }
 ],
 "metadata": {
  "kernelspec": {
   "display_name": "Python 3",
   "language": "python",
   "name": "python3"
  },
  "language_info": {
   "codemirror_mode": {
    "name": "ipython",
    "version": 3
   },
   "file_extension": ".py",
   "mimetype": "text/x-python",
   "name": "python",
   "nbconvert_exporter": "python",
   "pygments_lexer": "ipython3",
   "version": "3.7.6"
  }
 },
 "nbformat": 4,
 "nbformat_minor": 4
}
