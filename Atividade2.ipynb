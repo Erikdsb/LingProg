{
 "cells": [
  {
   "cell_type": "code",
   "execution_count": 3,
   "metadata": {},
   "outputs": [
    {
     "name": "stdout",
     "output_type": "stream",
     "text": [
      "Maior: 15 Soma: 40 Primeiro: 1 Média: 8.0 Próximo 1 Negativo: -8.0\n",
      "Maior: 15 Soma: 40 Primeiro: 1 Média: 8.0 Próximo 5 Negativo: -8.0\n",
      "Maior: 15 Soma: 40 Primeiro: 1 Média: 8.0 Próximo 5 Negativo: -8.0\n",
      "Maior: 15 Soma: 40 Primeiro: 1 Média: 8.0 Próximo 5 Negativo: -8.0\n",
      "Maior: 15 Soma: 40 Primeiro: 1 Média: 8.0 Próximo 5 Negativo: -8.0\n"
     ]
    }
   ],
   "source": [
    "#Exercicio 1\n",
    "num = [1,5,9,10,15]\n",
    "soma = 0\n",
    "\n",
    "for n in num:  \n",
    "    soma = sum(num)\n",
    "    maior = max(num)\n",
    "    p = num[0]\n",
    "    media = soma/len(num)\n",
    "    if media >= n:\n",
    "        prox = n\n",
    "    print(\"Maior: {} Soma: {} Primeiro: {} Média: {} Próximo {} Negativo: -{}\".format(maior, soma, p, media, prox, media))"
   ]
  },
  {
   "cell_type": "code",
   "execution_count": 4,
   "metadata": {},
   "outputs": [
    {
     "name": "stdin",
     "output_type": "stream",
     "text": [
      "Digite os numeros da primeira lista:  2\n",
      "Digite os numeros da segunda lista:  5\n"
     ]
    },
    {
     "data": {
      "text/plain": [
       "False"
      ]
     },
     "execution_count": 4,
     "metadata": {},
     "output_type": "execute_result"
    }
   ],
   "source": [
    "#Exercicio 2 \n",
    "lista1 = [input(\"Digite os numeros da primeira lista: \")]\n",
    "lista2 = [input(\"Digite os numeros da segunda lista: \")]\n",
    "\n",
    "lista1[:len(lista1)] == lista2[:len(lista2)]"
   ]
  },
  {
   "cell_type": "code",
   "execution_count": 10,
   "metadata": {},
   "outputs": [
    {
     "name": "stdout",
     "output_type": "stream",
     "text": [
      "5\n",
      "7\n"
     ]
    }
   ],
   "source": [
    "#Exercicio 3 \n",
    "lista1 = [3,6,8,10]\n",
    "lista2 = [6,9,4,1]\n",
    "\n",
    "set(lista1) == set(lista2)"
   ]
  },
  {
   "cell_type": "code",
   "execution_count": 5,
   "metadata": {},
   "outputs": [
    {
     "name": "stdout",
     "output_type": "stream",
     "text": [
      "Total de faltas: 45 \n",
      "Maior: 16 \n",
      "Menor: 14\n"
     ]
    }
   ],
   "source": [
    "#Exercicio 4 \n",
    "mais_faltas = {'Brasil':15,'Italia':16,'Espanha':14}\n",
    "soma =sum(mais_faltas.values())\n",
    "maior = max(mais_faltas.values())\n",
    "menor = min(mais_faltas.values())\n",
    "\n",
    "print(\"Total de faltas: {} \\nMaior: {} \\nMenor: {}\".format(soma,maior,menor))"
   ]
  },
  {
   "cell_type": "code",
   "execution_count": 6,
   "metadata": {},
   "outputs": [
    {
     "name": "stdin",
     "output_type": "stream",
     "text": [
      "Digite uma Palavra: caraio\n"
     ]
    },
    {
     "name": "stdout",
     "output_type": "stream",
     "text": [
      "{'a': 2, 'e': 0, 'i': 1, 'o': 1, 'u': 0}\n"
     ]
    }
   ],
   "source": [
    "#Exercicio 5 \n",
    "vogais = input(\"Digite uma Palavra:\")\n",
    "\n",
    "a = vogais.count(\"a\")\n",
    "e = vogais.count(\"e\")\n",
    "i = vogais.count(\"i\")\n",
    "o = vogais.count(\"o\")\n",
    "u = vogais.count(\"u\")\n",
    "quant = {'a':a,'e':e,'i':i,'o':o,'u':u}\n",
    "\n",
    "print(quant)"
   ]
  },
  {
   "cell_type": "code",
   "execution_count": 1,
   "metadata": {},
   "outputs": [
    {
     "name": "stdin",
     "output_type": "stream",
     "text": [
      "Insira o nome do aluno:  Erik\n",
      "Insira a primeira nota:  10\n",
      "Insira a segunda nota:  10\n"
     ]
    },
    {
     "name": "stdout",
     "output_type": "stream",
     "text": [
      "Caso não queria mais nem um apenas Aperte Enter\n"
     ]
    },
    {
     "name": "stdin",
     "output_type": "stream",
     "text": [
      "Insira o nome do aluno:  \n",
      "Insira o nome do aluno o qual deseja ver a média:  Erik\n"
     ]
    },
    {
     "data": {
      "text/plain": [
       "10.0"
      ]
     },
     "execution_count": 1,
     "metadata": {},
     "output_type": "execute_result"
    }
   ],
   "source": [
    "# Exercicio 6\n",
    "dic = {}\n",
    "i = 0\n",
    "nome = input(\"Insira o nome do aluno: \")\n",
    "while nome != \"\":\n",
    "    dic[nome] = [\n",
    "        float(input(\"Insira a primeira nota: \")),\n",
    "        float(input(\"Insira a segunda nota: \"))\n",
    "    ]\n",
    "    print(\"Caso não queria mais nem um apenas Aperte Enter\")\n",
    "    nome = input(\"Insira o nome do aluno: \")\n",
    "\n",
    "def media(nome):\n",
    "    return (dic[nome][0] + dic[nome][1]) / 2\n",
    "\n",
    "media(input(\"Insira o nome do aluno o qual deseja ver a média: \"))"
   ]
  },
  {
   "cell_type": "code",
   "execution_count": 6,
   "metadata": {},
   "outputs": [
    {
     "name": "stdout",
     "output_type": "stream",
     "text": [
      "True\n",
      "True\n",
      "True\n",
      "False\n"
     ]
    }
   ],
   "source": [
    "#Exercicio 7\n",
    "import operator\n",
    "\n",
    "kart = {'Corredor1':[57, 58, 60, 56, 64, 70, 59, 58, 69, 55], \n",
    "         'Corredor2':[56, 60, 72, 50, 67, 58, 61, 63, 62, 59], \n",
    "         'Corredor3':[79, 52, 58, 48, 58, 59, 61, 65, 59, 60], \n",
    "         'Corredor4':[56, 50, 55, 70, 85, 73, 68, 65, 56, 60], \n",
    "         'Corredor5':[69, 55, 67, 50, 52, 53, 70, 75, 65, 56], \n",
    "         'Corredor6':[56, 63, 63, 65, 70, 59, 55, 60, 63, 62]}\n",
    "\n",
    "volta = 0\n",
    "medias = kart\n",
    "nome = \"\"\n",
    "melhorVolta = kart[\"Corredor1\"][0]\n",
    "for chave in kart:\n",
    "    soma = 0\n",
    "    for num in kart[chave]:\n",
    "        if num < melhorVolta:\n",
    "            melhorVolta = num\n",
    "            nome = chave\n",
    "        soma += num\n",
    "    medias[chave] = soma / 10\n",
    "    \n",
    "print(\"Melhor volta foi de\",melhorVolta,\"segundos, do corredor\",nome)\n",
    "sort = sorted(medias.items(), key=operator.itemgetter(1))\n",
    "for i in range(0, 6):\n",
    "    print(\"%s° lugar: %s - %s segs.\" % (i + 1, sort[i][0], sort[i][1]))\n"
   ]
  }
 ],
 "metadata": {
  "kernelspec": {
   "display_name": "Python 3",
   "language": "python",
   "name": "python3"
  },
  "language_info": {
   "codemirror_mode": {
    "name": "ipython",
    "version": 3
   },
   "file_extension": ".py",
   "mimetype": "text/x-python",
   "name": "python",
   "nbconvert_exporter": "python",
   "pygments_lexer": "ipython3",
   "version": "3.7.6"
  }
 },
 "nbformat": 4,
 "nbformat_minor": 4
}
