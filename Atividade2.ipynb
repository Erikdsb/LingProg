{
 "cells": [
  {
   "cell_type": "code",
   "execution_count": 1,
   "metadata": {},
   "outputs": [
    {
     "name": "stdout",
     "output_type": "stream",
     "text": [
      "Maior: 15 Soma: 40 Primeiro: 1 Média: 8.0 Próximo 1 Negativo: -8.0\n",
      "Maior: 15 Soma: 40 Primeiro: 1 Média: 8.0 Próximo 5 Negativo: -8.0\n",
      "Maior: 15 Soma: 40 Primeiro: 1 Média: 8.0 Próximo 5 Negativo: -8.0\n",
      "Maior: 15 Soma: 40 Primeiro: 1 Média: 8.0 Próximo 5 Negativo: -8.0\n",
      "Maior: 15 Soma: 40 Primeiro: 1 Média: 8.0 Próximo 5 Negativo: -8.0\n"
     ]
    }
   ],
   "source": [
    "#Exercicio 1\n",
    "\n",
    "num = [1,5,9,10,15]\n",
    "soma = 0\n",
    "\n",
    "for n in num:  \n",
    "    soma = sum(num)\n",
    "    maior = max(num)\n",
    "    p = num[0]\n",
    "    media = soma/len(num)\n",
    "    if media >= n:\n",
    "        prox = n\n",
    "    print(\"Maior: {} Soma: {} Primeiro: {} Média: {} Próximo {} Negativo: -{}\".format(maior, soma, p, media, prox, media))\n"
   ]
  },
  {
   "cell_type": "code",
   "execution_count": 3,
   "metadata": {},
   "outputs": [
    {
     "name": "stdin",
     "output_type": "stream",
     "text": [
      "Digite os numeros da primeira lista:  3,21,1\n",
      "Digite os numeros da segunda lista:  3,2,1\n"
     ]
    },
    {
     "data": {
      "text/plain": [
       "False"
      ]
     },
     "execution_count": 3,
     "metadata": {},
     "output_type": "execute_result"
    }
   ],
   "source": [
    "#Exercicio 2 \n",
    "\n",
    "lista1 = [input(\"Digite os numeros da primeira lista: \")]\n",
    "lista2 = [input(\"Digite os numeros da segunda lista: \")]\n",
    "\n",
    "lista1[:len(lista1)] == lista2[:len(lista2)]"
   ]
  },
  {
   "cell_type": "code",
   "execution_count": 4,
   "metadata": {},
   "outputs": [
    {
     "data": {
      "text/plain": [
       "False"
      ]
     },
     "execution_count": 4,
     "metadata": {},
     "output_type": "execute_result"
    }
   ],
   "source": [
    "#Exercicio 3 \n",
    "\n",
    "lista1 = [3,6,8,10]\n",
    "lista2 = [6,9,4,1]\n",
    "\n",
    "set(lista1) == set(lista2)"
   ]
  },
  {
   "cell_type": "code",
   "execution_count": 5,
   "metadata": {},
   "outputs": [
    {
     "name": "stdout",
     "output_type": "stream",
     "text": [
      "Total de faltas: 45 \n",
      "Maior: 16 \n",
      "Menor: 14\n"
     ]
    }
   ],
   "source": [
    "#Exercicio 4 \n",
    "\n",
    "mais_faltas = {'Brasil':15,'Italia':16,'Espanha':14}\n",
    "soma =sum(mais_faltas.values())\n",
    "maior = max(mais_faltas.values())\n",
    "menor = min(mais_faltas.values())\n",
    "\n",
    "print(\"Total de faltas: {} \\nMaior: {} \\nMenor: {}\".format(soma,maior,menor))"
   ]
  },
  {
   "cell_type": "code",
   "execution_count": 6,
   "metadata": {},
   "outputs": [
    {
     "name": "stdin",
     "output_type": "stream",
     "text": [
      "Digite uma Palavra: caraio\n"
     ]
    },
    {
     "name": "stdout",
     "output_type": "stream",
     "text": [
      "{'a': 2, 'e': 0, 'i': 1, 'o': 1, 'u': 0}\n"
     ]
    }
   ],
   "source": [
    "#Exercicio 5 \n",
    "\n",
    "vogais = input(\"Digite uma Palavra:\")\n",
    "\n",
    "\n",
    "a = vogais.count(\"a\")\n",
    "e = vogais.count(\"e\")\n",
    "i = vogais.count(\"i\")\n",
    "o = vogais.count(\"o\")\n",
    "u = vogais.count(\"u\")\n",
    "quant = {'a':a,'e':e,'i':i,'o':o,'u':u}\n",
    "\n",
    "print(quant)"
   ]
  },
  {
   "cell_type": "code",
   "execution_count": 7,
   "metadata": {},
   "outputs": [
    {
     "name": "stdin",
     "output_type": "stream",
     "text": [
      "Digite o nome do aluno:  Erik\n"
     ]
    },
    {
     "name": "stdout",
     "output_type": "stream",
     "text": [
      "A média do aluno é: 7.35\n"
     ]
    }
   ],
   "source": [
    "#Exercicio 6\n",
    "\n",
    "notas = {\"Erik\":[7.7,7.0], \"Souza\":[0.0,0.5]}\n",
    "aluno = notas.get(input(\"Digite o nome do aluno: \"))\n",
    "nota = float((aluno[0] + aluno[1])/2)\n",
    "\n",
    "print(\"A média do aluno é: %.2f\" % nota)"
   ]
  },
  {
   "cell_type": "code",
   "execution_count": 8,
   "metadata": {},
   "outputs": [
    {
     "name": "stdin",
     "output_type": "stream",
     "text": [
      "Digite o nome do piloto:  Erik\n",
      "Digite o tempo do piloto:  5\n"
     ]
    },
    {
     "name": "stdout",
     "output_type": "stream",
     "text": [
      "Vitorioso: ['Erik', 5.0]\n"
     ]
    }
   ],
   "source": [
    "#Exercicio 7\n",
    "\n",
    "nome = input(\"Digite o nome do piloto: \")\n",
    "kart = [nome]\n",
    "tempo = float(input(\"Digite o tempo do piloto: \"))\n",
    "kart.append(tempo)\n",
    "\n",
    "print(\"Vitorioso: {}\".format(kart))"
   ]
  },
  {
   "cell_type": "code",
   "execution_count": null,
   "metadata": {},
   "outputs": [],
   "source": []
  }
 ],
 "metadata": {
  "kernelspec": {
   "display_name": "Python 3",
   "language": "python",
   "name": "python3"
  },
  "language_info": {
   "codemirror_mode": {
    "name": "ipython",
    "version": 3
   },
   "file_extension": ".py",
   "mimetype": "text/x-python",
   "name": "python",
   "nbconvert_exporter": "python",
   "pygments_lexer": "ipython3",
   "version": "3.7.6"
  }
 },
 "nbformat": 4,
 "nbformat_minor": 4
}
