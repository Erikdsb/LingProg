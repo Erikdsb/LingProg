{
 "cells": [
  {
   "cell_type": "code",
   "execution_count": 1,
   "metadata": {},
   "outputs": [
    {
     "name": "stdin",
     "output_type": "stream",
     "text": [
      "Qual valor do raio? 10\n"
     ]
    },
    {
     "name": "stdout",
     "output_type": "stream",
     "text": [
      "A area do circulo é  314.0\n"
     ]
    }
   ],
   "source": [
    "#Exercicio 1\n",
    "raio = float(input('Qual valor do raio?'))\n",
    "area = 3.14 * (raio * raio)\n",
    "print(\"A area do circulo é \", area)"
   ]
  },
  {
   "cell_type": "code",
   "execution_count": 2,
   "metadata": {},
   "outputs": [
    {
     "name": "stdin",
     "output_type": "stream",
     "text": [
      "Qual o valor em cm do lado? 15\n"
     ]
    },
    {
     "name": "stdout",
     "output_type": "stream",
     "text": [
      "A area do quadrado é  225.0\n",
      "O dobro da area deste quadrado é  450.0\n"
     ]
    }
   ],
   "source": [
    "#Exercicio 2\n",
    "lado = float(input('Qual o valor em cm do lado?'))\n",
    "area = lado * lado\n",
    "print(\"A area do quadrado é \", area)\n",
    "area = area * 2\n",
    "print(\"O dobro da area deste quadrado é \", area)"
   ]
  },
  {
   "cell_type": "code",
   "execution_count": 3,
   "metadata": {},
   "outputs": [
    {
     "name": "stdin",
     "output_type": "stream",
     "text": [
      "Quanto você ganha por hora? 12\n",
      "Quantas horas você trabalhou esse mês? 500\n"
     ]
    },
    {
     "name": "stdout",
     "output_type": "stream",
     "text": [
      "Seu salario é  6000.0\n"
     ]
    }
   ],
   "source": [
    "#Exercicio 3\n",
    "valorHora = float(input('Quanto você ganha por hora?'))\n",
    "valorHoraMes = float(input('Quantas horas você trabalhou esse mês?'))\n",
    "\n",
    "salario = valorHora * valorHoraMes\n",
    "\n",
    "print(\"Seu salario é \", salario)\n"
   ]
  },
  {
   "cell_type": "code",
   "execution_count": 4,
   "metadata": {},
   "outputs": [
    {
     "name": "stdin",
     "output_type": "stream",
     "text": [
      "Quantos graus está Farenheit? 72\n"
     ]
    },
    {
     "name": "stdout",
     "output_type": "stream",
     "text": [
      "A temperatura em graus Celsius é  22.22222222222222\n"
     ]
    }
   ],
   "source": [
    "#Exercicio 4\n",
    "F = float(input('Quantos graus está Farenheit?'))\n",
    "\n",
    "C = (5 * (F-32) / 9)\n",
    "\n",
    "print(\"A temperatura em graus Celsius é \", C)\n"
   ]
  },
  {
   "cell_type": "code",
   "execution_count": 5,
   "metadata": {},
   "outputs": [
    {
     "name": "stdin",
     "output_type": "stream",
     "text": [
      "Quantos graus está Celsius? 12\n"
     ]
    },
    {
     "name": "stdout",
     "output_type": "stream",
     "text": [
      "A temperatura em graus Farenheit é  53.6\n"
     ]
    }
   ],
   "source": [
    "#Exercicio 5\n",
    "C = float(input('Quantos graus está Celsius?'))\n",
    "\n",
    "F = (C * 9/5) + 32\n",
    "\n",
    "print(\"A temperatura em graus Farenheit é \", F)\n"
   ]
  },
  {
   "cell_type": "code",
   "execution_count": 6,
   "metadata": {},
   "outputs": [
    {
     "name": "stdin",
     "output_type": "stream",
     "text": [
      "Digite um numero inteiro:  1\n",
      "Digite outro numero inteiro:  2\n",
      "Digite um numero Real:  3\n"
     ]
    },
    {
     "name": "stdout",
     "output_type": "stream",
     "text": [
      "Resultados  2.0   6.0   27.0\n"
     ]
    }
   ],
   "source": [
    "#Exercicio 6\n",
    "Num1 = float(input('Digite um numero inteiro: '))\n",
    "Num2 = float(input('Digite outro numero inteiro: '))\n",
    "Num3 = float(input('Digite um numero Real: '))\n",
    "\n",
    "Result1 = (Num1 * 2) * (Num2 /2)\n",
    "Result2 = (Num1 * 3) + Num3\n",
    "Result3 = Num3 * Num3 * Num3\n",
    "\n",
    "print(\"Resultados \", Result1, \" \", Result2, \" \", Result3)\n"
   ]
  },
  {
   "cell_type": "code",
   "execution_count": 12,
   "metadata": {},
   "outputs": [
    {
     "name": "stdin",
     "output_type": "stream",
     "text": [
      "Digite o número de quilos do peixe que você pegou: 10\n"
     ]
    },
    {
     "name": "stdout",
     "output_type": "stream",
     "text": [
      "Não teve excesso\n"
     ]
    }
   ],
   "source": [
    "#Exercicio 7\n",
    "p = float(input('Digite o número de quilos do peixe que você pegou:'))\n",
    "\n",
    "if p > 50:\n",
    "    multa = (p - 50) * 4\n",
    "    print('Total da multa:R$',multa)\n",
    "else:\n",
    "    print('Não teve excesso')"
   ]
  },
  {
   "cell_type": "code",
   "execution_count": 13,
   "metadata": {},
   "outputs": [
    {
     "name": "stdin",
     "output_type": "stream",
     "text": [
      "Quanto você ganha por hora? 30\n",
      "Quantas horas você trabalhou esse mês? 600\n"
     ]
    },
    {
     "name": "stdout",
     "output_type": "stream",
     "text": [
      "Seu salario bruto é  18000.0  Seu salario Liquido com os descontos é  13680.0\n"
     ]
    }
   ],
   "source": [
    "#Exercicio 8\n",
    "valorHora = float(input('Quanto você ganha por hora?'))\n",
    "valorHoraMes = float(input('Quantas horas você trabalhou esse mês?'))\n",
    "\n",
    "salarioBruto = valorHora * valorHoraMes\n",
    "\n",
    "IR = salarioBruto * 0.11\n",
    "INSS = salarioBruto * 0.08\n",
    "Sindicato = salarioBruto * 0.05\n",
    "\n",
    "salarioLiquido = salarioBruto - IR - INSS - Sindicato\n",
    "\n",
    "print(\"Seu salario bruto é \", salarioBruto, \" Seu salario Liquido com os descontos é \", salarioLiquido)\n"
   ]
  },
  {
   "cell_type": "code",
   "execution_count": 14,
   "metadata": {},
   "outputs": [
    {
     "name": "stdin",
     "output_type": "stream",
     "text": [
      "String 1: asa\n",
      "String 2: asasa\n"
     ]
    },
    {
     "name": "stdout",
     "output_type": "stream",
     "text": [
      "Tamanho de asa : 3\n",
      "Tamanho de asasa : 5\n",
      "As duas strings são de tamanhos diferentes.\n",
      "As duas strings possuem conteúdo diferente.\n"
     ]
    }
   ],
   "source": [
    "#Exercicio 9\n",
    "s1 = input(\"String 1:\")\n",
    "s2 = input(\"String 2:\")\n",
    "print(\"Tamanho de\",s1,\":\",len(s1))\n",
    "print(\"Tamanho de\",s2,\":\",len(s2))\n",
    "\n",
    "if len(s1) == len(s2):\n",
    "    print(\"As duas strings são de tamanhos iguais.\")\n",
    "else:\n",
    "    print(\"As duas strings são de tamanhos diferentes.\")\n",
    "    \n",
    "if s1.lower() == s2.lower():\n",
    "    print(\"As duas strings possuem conteúdo iguais.\")\n",
    "else: \n",
    "    print(\"As duas strings possuem conteúdo diferente.\")"
   ]
  },
  {
   "cell_type": "code",
   "execution_count": 15,
   "metadata": {},
   "outputs": [
    {
     "name": "stdin",
     "output_type": "stream",
     "text": [
      "Usuário, digite o seu nome: Erik\n"
     ]
    },
    {
     "name": "stdout",
     "output_type": "stream",
     "text": [
      "O nome do usuário de trás para frente utilizando somente letras maiúsculas: KIRE\n"
     ]
    }
   ],
   "source": [
    "#Exercicio 10\n",
    "nome = input('Usuário, digite o seu nome:')\n",
    "nome = nome.upper()\n",
    "\n",
    "print('O nome do usuário de trás para frente utilizando somente letras maiúsculas:',nome[::-1])"
   ]
  },
  {
   "cell_type": "code",
   "execution_count": 16,
   "metadata": {},
   "outputs": [
    {
     "name": "stdin",
     "output_type": "stream",
     "text": [
      "informe a data (dd/mm/aaaa):  13/04/1999\n"
     ]
    },
    {
     "name": "stdout",
     "output_type": "stream",
     "text": [
      "Você nasce em:\n",
      "13 de abril de 1999\n"
     ]
    }
   ],
   "source": [
    "#Exercicio 11\n",
    "data = input(\"informe a data (dd/mm/aaaa): \")\n",
    "meses = ['janeiro','fevereiro','março','abril',\n",
    "         'maio','junho','julho','agosto','setembro',\n",
    "         'outubro','novembro','dezembro']\n",
    "print ('Você nasce em:')\n",
    "print (data.split(\"/\")[0],\n",
    "       \"de\",\n",
    "       meses[(int(data.split(\"/\")[1])-1)],\n",
    "       \"de\",\n",
    "       data.split(\"/\")[2])"
   ]
  },
  {
   "cell_type": "code",
   "execution_count": null,
   "metadata": {},
   "outputs": [],
   "source": []
  },
  {
   "cell_type": "code",
   "execution_count": 17,
   "metadata": {},
   "outputs": [
    {
     "name": "stdin",
     "output_type": "stream",
     "text": [
      "Escreva um texto: Eu sou uma falha nao consegui resolver esse exercicio sozinho, perd\n"
     ]
    },
    {
     "name": "stdout",
     "output_type": "stream",
     "text": [
      "Texto traduzido para a grafia leet speak:\n",
      "3\n",
      "\\_/\n",
      " \n",
      "5\n",
      "0\n",
      "\\_/\n",
      " \n",
      "\\_/\n",
      "^^\n",
      "4\n",
      " \n",
      "|=\n",
      "4\n",
      "|_\n",
      "#\n",
      "4\n",
      " \n",
      "|V\n",
      "4\n",
      "0\n",
      " \n",
      "<\n",
      "0\n",
      "|V\n",
      "5\n",
      "3\n",
      "6\n",
      "\\_/\n",
      "1\n",
      " \n",
      "l2\n",
      "3\n",
      "5\n",
      "0\n",
      "|_\n",
      "\\//\n",
      "3\n",
      "l2\n",
      " \n",
      "3\n",
      "5\n",
      "5\n",
      "3\n",
      " \n",
      "3\n",
      "><\n",
      "3\n",
      "l2\n",
      "<\n",
      "1\n",
      "<\n",
      "1\n",
      "0\n",
      " \n",
      "5\n",
      "0\n",
      "7_\n",
      "1\n",
      "|V\n",
      "#\n",
      "0\n",
      " \n",
      " \n",
      "|D\n",
      "3\n",
      "l2\n",
      "[)\n"
     ]
    }
   ],
   "source": [
    "#Exercicio 12 esse eu nao entendi e tive q ver como japa foi mal\n",
    "leet = {\n",
    "    'A': '4',\n",
    "    'B': '13',\n",
    "    'C': '<',\n",
    "    'D': '[)',\n",
    "    'E': '3',\n",
    "    'F': '|=',\n",
    "    'G': '6',\n",
    "    'H': '#',\n",
    "    'I': '1',\n",
    "    'J': 'u|',\n",
    "    'K': '|<',\n",
    "    'L': '|_',\n",
    "    'M': '^^',\n",
    "    'N': '|V',\n",
    "    'O': '0',\n",
    "    'P': '|D',\n",
    "    'Q': '9',\n",
    "    'R': 'l2',\n",
    "    'S': '5',\n",
    "    'T': '7',\n",
    "    'U': '\\_/',\n",
    "    'V': '\\\\//',\n",
    "    'W': 'vv',\n",
    "    'X': '><',\n",
    "    'Y': '`/',\n",
    "    'Z': '7_'\n",
    "}\n",
    "t = input('Escreva um texto:')\n",
    "print('Texto traduzido para a grafia leet speak:')\n",
    "for i in t.upper():\n",
    "    if i.isalpha():\n",
    "        print(leet[i]),\n",
    "    else:\n",
    "        print(' '),"
   ]
  },
  {
   "cell_type": "code",
   "execution_count": null,
   "metadata": {},
   "outputs": [],
   "source": []
  }
 ],
 "metadata": {
  "kernelspec": {
   "display_name": "Python 3",
   "language": "python",
   "name": "python3"
  },
  "language_info": {
   "codemirror_mode": {
    "name": "ipython",
    "version": 3
   },
   "file_extension": ".py",
   "mimetype": "text/x-python",
   "name": "python",
   "nbconvert_exporter": "python",
   "pygments_lexer": "ipython3",
   "version": "3.7.3"
  }
 },
 "nbformat": 4,
 "nbformat_minor": 4
}
