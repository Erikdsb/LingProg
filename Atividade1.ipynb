{
 "cells": [
  {
   "cell_type": "code",
   "execution_count": 8,
   "metadata": {},
   "outputs": [
    {
     "name": "stdin",
     "output_type": "stream",
     "text": [
      "Qual valor do raio? 2\n"
     ]
    },
    {
     "name": "stdout",
     "output_type": "stream",
     "text": [
      "A area do circulo é  12.56\n"
     ]
    }
   ],
   "source": [
    "#Exercicio 1\n",
    "raio = float(input('Qual valor do raio?'))\n",
    "area = 3.14 * (raio * raio)\n",
    "print(\"A area do circulo é \", area)"
   ]
  },
  {
   "cell_type": "code",
   "execution_count": 1,
   "metadata": {},
   "outputs": [
    {
     "name": "stdin",
     "output_type": "stream",
     "text": [
      "Qual o valor em cm do lado? 4\n"
     ]
    },
    {
     "name": "stdout",
     "output_type": "stream",
     "text": [
      "A area do quadrado é  16.0\n",
      "O dobro da area deste quadrado é  32.0\n"
     ]
    }
   ],
   "source": [
    "#Exercicio 2\n",
    "lado = float(input('Qual o valor em cm do lado?'))\n",
    "area = lado * lado\n",
    "print(\"A area do quadrado é \", area)\n",
    "area = area * 2\n",
    "print(\"O dobro da area deste quadrado é \", area)"
   ]
  },
  {
   "cell_type": "code",
   "execution_count": 3,
   "metadata": {},
   "outputs": [
    {
     "name": "stdin",
     "output_type": "stream",
     "text": [
      "Quanto você ganha por hora? 37\n",
      "Quantas horas você trabalhou esse mês? 600\n"
     ]
    },
    {
     "name": "stdout",
     "output_type": "stream",
     "text": [
      "Seu salario é  22200.0\n"
     ]
    }
   ],
   "source": [
    "#Exercicio 3\n",
    "valorHora = float(input('Quanto você ganha por hora?'))\n",
    "valorHoraMes = float(input('Quantas horas você trabalhou esse mês?'))\n",
    "\n",
    "salario = valorHora * valorHoraMes\n",
    "\n",
    "print(\"Seu salario é \", salario)"
   ]
  },
  {
   "cell_type": "code",
   "execution_count": 2,
   "metadata": {},
   "outputs": [
    {
     "name": "stdin",
     "output_type": "stream",
     "text": [
      "Quantos graus está Farenheit? 86\n"
     ]
    },
    {
     "name": "stdout",
     "output_type": "stream",
     "text": [
      "A temperatura em graus Celsius é  30.0\n"
     ]
    }
   ],
   "source": [
    "#Exercicio 4\n",
    "F = float(input('Quantos graus está Farenheit?'))\n",
    "\n",
    "C = (5 * (F-32) / 9)\n",
    "\n",
    "print(\"A temperatura em graus Celsius é \", C)"
   ]
  },
  {
   "cell_type": "code",
   "execution_count": 1,
   "metadata": {},
   "outputs": [
    {
     "name": "stdin",
     "output_type": "stream",
     "text": [
      "Quantos graus está Celsius? 30\n"
     ]
    },
    {
     "name": "stdout",
     "output_type": "stream",
     "text": [
      "A temperatura em graus Farenheit é  86.0\n"
     ]
    }
   ],
   "source": [
    "#Exercicio 5\n",
    "C = float(input('Quantos graus está Celsius?'))\n",
    "\n",
    "F = (C * 9/5) + 32\n",
    "\n",
    "print(\"A temperatura em graus Farenheit é \", F)"
   ]
  },
  {
   "cell_type": "code",
   "execution_count": 5,
   "metadata": {},
   "outputs": [
    {
     "name": "stdin",
     "output_type": "stream",
     "text": [
      "Digite um numero inteiro:  1\n",
      "Digite outro numero inteiro:  2\n",
      "Digite um numero Real:  3\n"
     ]
    },
    {
     "name": "stdout",
     "output_type": "stream",
     "text": [
      "Resultados  2.0   6.0   27.0\n"
     ]
    }
   ],
   "source": [
    "#Exercicio 6\n",
    "Num1 = float(input('Digite um numero inteiro: '))\n",
    "Num2 = float(input('Digite outro numero inteiro: '))\n",
    "Num3 = float(input('Digite um numero Real: '))\n",
    "\n",
    "Result1 = (Num1 * 2) * (Num2 /2)\n",
    "Result2 = (Num1 * 3) + Num3\n",
    "Result3 = Num3 * Num3 * Num3\n",
    "\n",
    "print(\"Resultados \", Result1, \" \", Result2, \" \", Result3)"
   ]
  },
  {
   "cell_type": "code",
   "execution_count": null,
   "metadata": {},
   "outputs": [],
   "source": []
  }
 ],
 "metadata": {
  "kernelspec": {
   "display_name": "Python 3",
   "language": "python",
   "name": "python3"
  },
  "language_info": {
   "codemirror_mode": {
    "name": "ipython",
    "version": 3
   },
   "file_extension": ".py",
   "mimetype": "text/x-python",
   "name": "python",
   "nbconvert_exporter": "python",
   "pygments_lexer": "ipython3",
   "version": "3.7.3"
  }
 },
 "nbformat": 4,
 "nbformat_minor": 4
}
