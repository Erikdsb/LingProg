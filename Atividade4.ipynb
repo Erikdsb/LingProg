{
 "cells": [
  {
   "cell_type": "code",
   "execution_count": 27,
   "metadata": {},
   "outputs": [
    {
     "name": "stdin",
     "output_type": "stream",
     "text": [
      "Qual o valor do primeiro numero?:  200\n",
      "Qual o valor do segundo numero?:  5\n"
     ]
    },
    {
     "name": "stdout",
     "output_type": "stream",
     "text": [
      "O segundo numero é impar  5\n"
     ]
    }
   ],
   "source": [
    "#Exercicio 1\n",
    "num1 = int(input(\"Qual o valor do primeiro numero?: \"))\n",
    "num2 = int(input(\"Qual o valor do segundo numero?: \"))\n",
    "\n",
    "\n",
    "def menor_de_dois_pares(num1,num2):\n",
    "    if (num1 % 2) == 0 and (num2 % 2) == 0:\n",
    "        if num1 < num2:\n",
    "            print(\"O menor é \",num1)\n",
    "        else:\n",
    "            print(\"O menor é \",num2)\n",
    "    if (num1 % 2) == 1:\n",
    "        print(\"O primeiro numero é impar \",num1)\n",
    "    if (num2 % 2) == 1:\n",
    "        print(\"O segundo numero é impar \",num2)\n",
    "        \n",
    "menor_de_dois_pares(num1,num2)\n"
   ]
  },
  {
   "cell_type": "code",
   "execution_count": 1,
   "metadata": {},
   "outputs": [
    {
     "name": "stdin",
     "output_type": "stream",
     "text": [
      "Digite algo: a\n",
      "Digite outra coisa: s\n"
     ]
    },
    {
     "name": "stdout",
     "output_type": "stream",
     "text": [
      "Falso\n"
     ]
    }
   ],
   "source": [
    "#Exercicio 2\n",
    "p1 = str(input(\"Digite algo:\"))\n",
    "p2 = str(input(\"Digite outra coisa:\"))\n",
    "\n",
    "def mesma_letra(p1,p2):\n",
    "    if p1[0] == p2[0]:\n",
    "        print(\"Verdadeiro\")\n",
    "    else:\n",
    "        print(\"Falso\")\n",
    "        \n",
    "mesma_letra(p1,p2)"
   ]
  },
  {
   "cell_type": "code",
   "execution_count": 4,
   "metadata": {},
   "outputs": [
    {
     "name": "stdin",
     "output_type": "stream",
     "text": [
      "Digite uma frase: carai que porra\n"
     ]
    },
    {
     "name": "stdout",
     "output_type": "stream",
     "text": [
      "mestre_yoda('carai que porra') --> 'porra que carai'\n"
     ]
    }
   ],
   "source": [
    "#Exercicio 3\n",
    "frase = input('Digite uma frase:')\n",
    "\n",
    "def mestre_yoda(frase):\n",
    "    palavras = frase.split()\n",
    "    palavras.reverse()\n",
    "    yoda = \"\"\n",
    "    for i in range(0, len(palavras) - 1):\n",
    "        palavras[i] = palavras[i] + \" \"\n",
    "    for palavra in palavras:\n",
    "        yoda += palavra\n",
    "    return yoda\n",
    "\n",
    "print(f\"mestre_yoda('{frase}') --> '{mestre_yoda(frase)}'\")"
   ]
  },
  {
   "cell_type": "code",
   "execution_count": 5,
   "metadata": {},
   "outputs": [
    {
     "name": "stdout",
     "output_type": "stream",
     "text": [
      "False\n",
      "False\n",
      "True\n"
     ]
    }
   ],
   "source": [
    "#Exercicio 4\n",
    "def tem_33(num):\n",
    "    tt = False\n",
    "    for i in num:\n",
    "        if i == 3:\n",
    "            if tt is True:\n",
    "                return True\n",
    "            else:\n",
    "                tt = True\n",
    "        else:\n",
    "            tt = False\n",
    "    else:\n",
    "        return False\n",
    "    \n",
    "print (tem_33([3,0,4]))\n",
    "print (tem_33([3,1,1,3]))\n",
    "print (tem_33([3,3,3]))"
   ]
  },
  {
   "cell_type": "code",
   "execution_count": 6,
   "metadata": {},
   "outputs": [
    {
     "name": "stdout",
     "output_type": "stream",
     "text": [
      "11\n",
      "18\n",
      "Estourou\n"
     ]
    }
   ],
   "source": [
    "#Exercicio 5\n",
    "def blackjack(n1,n2,n3):\n",
    "    x= n1 + n2 + n3\n",
    "    \n",
    "    if x <= 21:\n",
    "        return x\n",
    "    \n",
    "    else:\n",
    "        if n1 == 11 or n2 == 11 or n3 == 11:\n",
    "            x -= 10\n",
    "            \n",
    "        if x > 21:\n",
    "            return 'Estourou'\n",
    "        \n",
    "        else:\n",
    "            return x\n",
    "        \n",
    "print (blackjack(1,3,7))\n",
    "print (blackjack(0,8,10))\n",
    "print (blackjack(11,30,2))"
   ]
  },
  {
   "cell_type": "code",
   "execution_count": null,
   "metadata": {},
   "outputs": [],
   "source": [
    "#Exercicio 6\n"
   ]
  }
 ],
 "metadata": {
  "kernelspec": {
   "display_name": "Python 3",
   "language": "python",
   "name": "python3"
  },
  "language_info": {
   "codemirror_mode": {
    "name": "ipython",
    "version": 3
   },
   "file_extension": ".py",
   "mimetype": "text/x-python",
   "name": "python",
   "nbconvert_exporter": "python",
   "pygments_lexer": "ipython3",
   "version": "3.7.6"
  }
 },
 "nbformat": 4,
 "nbformat_minor": 4
}
