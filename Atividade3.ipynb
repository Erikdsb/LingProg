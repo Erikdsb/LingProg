{
 "cells": [
  {
   "cell_type": "code",
   "execution_count": 1,
   "metadata": {},
   "outputs": [
    {
     "name": "stdin",
     "output_type": "stream",
     "text": [
      "Digite o primeiro número:  9\n",
      "Digite o segundo número:  10\n"
     ]
    },
    {
     "name": "stdout",
     "output_type": "stream",
     "text": [
      "10\n"
     ]
    }
   ],
   "source": [
    "#Exercicio 1\n",
    "num1 = int(input(\"Digite o primeiro número: \"))\n",
    "num2 = int(input(\"Digite o segundo número: \"))\n",
    "\n",
    "if(num1 > num2):\n",
    "    print(num1)\n",
    "elif(num2 > num1):\n",
    "    print(num2)\n",
    "else:\n",
    "    print(\"Numeros sao iguais\")"
   ]
  },
  {
   "cell_type": "code",
   "execution_count": 2,
   "metadata": {},
   "outputs": [
    {
     "name": "stdin",
     "output_type": "stream",
     "text": [
      "Digite uma letra:  caraio\n"
     ]
    },
    {
     "name": "stdout",
     "output_type": "stream",
     "text": [
      "CONSOANTE\n"
     ]
    }
   ],
   "source": [
    "#Exercicio 2\n",
    "letra = input(\"Digite uma letra: \")\n",
    "if(letra in set(['a', 'e', 'i', 'o', 'u'])):\n",
    "    print(\"VOGAL\")\n",
    "else:\n",
    "    print(\"CONSOANTE\")"
   ]
  },
  {
   "cell_type": "code",
   "execution_count": 3,
   "metadata": {},
   "outputs": [
    {
     "name": "stdin",
     "output_type": "stream",
     "text": [
      "Digite a primeira nota(1-10):  8\n",
      "Digite a segunda nota(1-10): 10\n"
     ]
    },
    {
     "name": "stdout",
     "output_type": "stream",
     "text": [
      "APROVADO\n"
     ]
    }
   ],
   "source": [
    "#Exercicio 3\n",
    "nota1 = int(input(\"Digite a primeira nota(1-10): \"))\n",
    "nota2 = int(input(\"Digite a segunda nota(1-10):\"))\n",
    "media = (nota1+nota2)/2\n",
    "\n",
    "if(media < 7):\n",
    "    print(\"REPROVADO\")\n",
    "elif(media == 10):\n",
    "    print(\"APROVADO COM DISTINÇÃO\")\n",
    "else:\n",
    "    print(\"APROVADO\")"
   ]
  },
  {
   "cell_type": "code",
   "execution_count": 4,
   "metadata": {},
   "outputs": [
    {
     "name": "stdin",
     "output_type": "stream",
     "text": [
      "Digite o primeiro numero:  6\n",
      "Digite o segundo numero:  2\n",
      "Digite o terceiro numero:  4\n"
     ]
    },
    {
     "name": "stdout",
     "output_type": "stream",
     "text": [
      "6 , 4 , 2\n"
     ]
    }
   ],
   "source": [
    "#Exercicio 4\n",
    "num1 = int(input(\"Digite o primeiro numero: \"))\n",
    "num2 = int(input(\"Digite o segundo numero: \"))\n",
    "num3 = int(input(\"Digite o terceiro numero: \"))\n",
    "\n",
    "if(num3 > num2):\n",
    "    aux = num3\n",
    "    num3 = num2\n",
    "    num2 = aux\n",
    "if(num2 > num1):\n",
    "    aux = num2\n",
    "    num2 = num1\n",
    "    num1 = aux\n",
    "if(num3 > num2):\n",
    "    aux = num3\n",
    "    num3 = num2\n",
    "    num2 = aux\n",
    "    \n",
    "    \n",
    "print(num1,\",\", num2,\",\", num3)"
   ]
  },
  {
   "cell_type": "code",
   "execution_count": 5,
   "metadata": {},
   "outputs": [
    {
     "name": "stdin",
     "output_type": "stream",
     "text": [
      "Digite o salario atual:  900\n"
     ]
    },
    {
     "name": "stdout",
     "output_type": "stream",
     "text": [
      "Salario original:  900.0 \n",
      "Percentual aplicado:  10 \n",
      "Valor do aumento:  90.0 \n",
      "Novo salario:  990.0\n"
     ]
    }
   ],
   "source": [
    "#Exercicio 5\n",
    "salatual = float(input(\"Digite o salario atual: \"))\n",
    "\n",
    "if(salatual <= 280):\n",
    "    porc = 20\n",
    "    salnovo = salatual + (salatual*porc)/100\n",
    "    \n",
    "elif(salatual > 280 and salatual <= 700):\n",
    "    porc = 15\n",
    "    salnovo = salatual +  (salatual*porc)/100\n",
    "    \n",
    "elif(salatual > 700 and salatual <= 1500):\n",
    "    porc = 10\n",
    "    salnovo = salatual + (salatual*porc)/100\n",
    "    \n",
    "else:\n",
    "    porc = 5\n",
    "    salnovo = salatual + (salatual*porc)/100\n",
    "    \n",
    "aum = (salatual*porc)/100\n",
    "\n",
    "print(\"Salario original: \",salatual,\"\\nPercentual aplicado: \",porc,\"\\nValor do aumento: \",aum,\"\\nNovo salario: \",salnovo)"
   ]
  },
  {
   "cell_type": "code",
   "execution_count": 22,
   "metadata": {},
   "outputs": [
    {
     "name": "stdin",
     "output_type": "stream",
     "text": [
      "Qual é o dia da semana? (1-7) 7\n"
     ]
    },
    {
     "name": "stdout",
     "output_type": "stream",
     "text": [
      "O dia é: Sabado\n"
     ]
    }
   ],
   "source": [
    "#Exercicio 6\n",
    "datas = ['Domingo', 'Segunda', 'Terça', 'Quarta', 'Quinta', 'Sexta','Sabado']\n",
    "dia = int(input(\"Qual é o dia da semana? (1-7)\"));\n",
    "dia -= 1\n",
    "\n",
    "print(\"O dia é:\",datas[dia])"
   ]
  },
  {
   "cell_type": "code",
   "execution_count": 29,
   "metadata": {},
   "outputs": [
    {
     "name": "stdin",
     "output_type": "stream",
     "text": [
      "Digite a primeira nota:  5\n",
      "Digite a segunda nota:  9\n"
     ]
    },
    {
     "name": "stdout",
     "output_type": "stream",
     "text": [
      "Suas notas são:  9.0  e  10 \n",
      "Media:  9.5 \n",
      "Seu conceito é:  A \n",
      "Você está:  Aprovado\n"
     ]
    }
   ],
   "source": [
    "#Exercicio 7\n",
    "nota1 = float(input(\"Digite a primeira nota: \"))\n",
    "nota1 = float(input(\"Digite a segunda nota: \"))\n",
    "\n",
    "media = (nota1 + nota2) / 2\n",
    "\n",
    "if(media > 9  and media <= 10):\n",
    "    msg = 'Aprovado'\n",
    "    conceito = 'A'\n",
    "elif(media > 7.5 and media <= 9):\n",
    "    msg = 'Aprovado'\n",
    "    conceito = 'B'\n",
    "elif(media > 6 and media <= 7.5):\n",
    "    msg = 'Aprovado'\n",
    "    conceito = 'C'\n",
    "elif(media > 4 and media <= 6):\n",
    "    msg = 'Reprovado'\n",
    "    conceito = 'D'\n",
    "if(media > 0 and media <= 4):\n",
    "    msg = 'Reprovado'\n",
    "    conceito = 'E'\n",
    "\n",
    "print(\"Suas notas são: \",nota1,\" e \",nota2,\"\\nMedia: \",media, \"\\nSeu conceito é: \",conceito,\"\\nVocê está: \",msg) "
   ]
  },
  {
   "cell_type": "code",
   "execution_count": 35,
   "metadata": {},
   "outputs": [
    {
     "name": "stdin",
     "output_type": "stream",
     "text": [
      "Digite o Lado A:  2\n",
      "Digite o Lado B:  1\n",
      "Digite o Lado C:  3\n"
     ]
    },
    {
     "name": "stdout",
     "output_type": "stream",
     "text": [
      "Triangulo Escaleno\n"
     ]
    }
   ],
   "source": [
    "#Exercicio 8\n",
    "ladoA = int(input(\"Digite o Lado A: \"))\n",
    "ladoB = int(input(\"Digite o Lado B: \"))\n",
    "ladoC = int(input(\"Digite o Lado C: \"))\n",
    "\n",
    "if ladoA == ladoB == ladoC:\n",
    "    print(\"Triangulo Equilatero\")\n",
    "elif ladoA == ladoB or ladoB == ladoC or ladoA == ladoC:\n",
    "    print(\"Triangulo Isósceles\")\n",
    "elif ladoA > ladoB or ladoA > ladoC or ladoC > ladoA:\n",
    "    print(\"Triangulo Escaleno\")"
   ]
  },
  {
   "cell_type": "code",
   "execution_count": 2,
   "metadata": {},
   "outputs": [
    {
     "name": "stdin",
     "output_type": "stream",
     "text": [
      "Digite o valor de A:  1\n",
      "Digite o valor de B:  -5\n",
      "Digite o valor de C:  6\n"
     ]
    },
    {
     "name": "stdout",
     "output_type": "stream",
     "text": [
      "5.0\n",
      "Delta =  1.0 \n",
      "Raiz de delta é =  1.0 \n",
      "x1 =  3.0 \n",
      "x2 =  2.0\n"
     ]
    }
   ],
   "source": [
    "#Exercicio 9\n",
    "a = float(input(\"Digite o valor de A: \"))\n",
    "b = float(input(\"Digite o valor de B: \"))\n",
    "c = float(input(\"Digite o valor de C: \"))\n",
    "if a == 0:\n",
    "    print (\"Raiz igual a 0 pode ser extraida.\")\n",
    "    \n",
    "        \n",
    "x=(b**2)-(4*a*c)\n",
    "\n",
    "if x < 0:\n",
    "        print (\"Raiz negativa nao pode ser extraida.\")\n",
    "        \n",
    "elif x == 0:\n",
    "        print (\"Apenas uma raiz é real.\")\n",
    "        \n",
    "else:\n",
    "    raiz = float(x) ** 0.5\n",
    "    x1=(-b+raiz)/(2*a)\n",
    "    x2=(-b-raiz)/(2*a)\n",
    "    print (\"Delta = \",x, \"\\nRaiz de delta é = \", raiz,\"\\nx1 = \",x1, \"\\nx2 = \",x2)#6 8 2"
   ]
  },
  {
   "cell_type": "code",
   "execution_count": 13,
   "metadata": {},
   "outputs": [
    {
     "name": "stdin",
     "output_type": "stream",
     "text": [
      "Digite o valor a sacar:  599\n"
     ]
    },
    {
     "name": "stdout",
     "output_type": "stream",
     "text": [
      "Total de  5  cedulas de R$  100\n",
      "Total de  1  cedulas de R$  50\n",
      "Total de  2  cedulas de R$  20\n",
      "Total de  9  cedulas de R$  1\n"
     ]
    }
   ],
   "source": [
    "#Exercicio 10\n",
    "valor = int(input(\"Digite o valor a sacar: \"))\n",
    "total = valor\n",
    "cedula = 100\n",
    "totalced = 0\n",
    "\n",
    "while True:\n",
    "        if total >= cedula:\n",
    "            total -= cedula\n",
    "            totalced += 1\n",
    "        else:\n",
    "            if totalced > 0:\n",
    "                print(\"Total de \", totalced,\" cedulas de R$ \",cedula)\n",
    "            if cedula == 100:\n",
    "                cedula = 50\n",
    "            elif cedula == 50:\n",
    "                cedula = 20\n",
    "            elif cedula == 20:\n",
    "                cedula = 10\n",
    "            elif cedula == 10:\n",
    "                cedula = 1\n",
    "            totalced = 0\n",
    "            if total == 0:\n",
    "                break "
   ]
  },
  {
   "cell_type": "code",
   "execution_count": 15,
   "metadata": {},
   "outputs": [
    {
     "name": "stdin",
     "output_type": "stream",
     "text": [
      "Ligou pra vítima? sim\n",
      "Tava la no local? sim\n",
      "É das quebrada? sim\n",
      "Tava devendo? sim\n",
      "Ja participou dos corre com a vitima? sim\n"
     ]
    },
    {
     "name": "stdout",
     "output_type": "stream",
     "text": [
      "Assassino\n"
     ]
    }
   ],
   "source": [
    "#Exercicio 11\n",
    "op = 0\n",
    "respostas = [\n",
    "    input(\"Ligou pra vítima?\" ),\n",
    "    input(\"Tava la no local?\" ),\n",
    "    input(\"É das quebrada?\" ),\n",
    "    input(\"Tava devendo?\" ),\n",
    "    input(\"Ja participou dos corre com a vitima?\" )\n",
    "]\n",
    "\n",
    "for resposta in respostas:\n",
    "    if resposta == \"sim\":\n",
    "        op += 1\n",
    "        \n",
    "if op == 2:\n",
    "    print(\"Suspeita\")\n",
    "elif op >= 3 and op <= 4:\n",
    "    print(\"Cúmplice\")\n",
    "elif op == 5:\n",
    "    print(\"Assassino\")\n",
    "else:\n",
    "    print(\"Inocente\")"
   ]
  },
  {
   "cell_type": "code",
   "execution_count": 16,
   "metadata": {},
   "outputs": [
    {
     "name": "stdin",
     "output_type": "stream",
     "text": [
      "Digite quantos Kg de morango?  8\n",
      "Digite quantos Kg de maça? 9\n"
     ]
    },
    {
     "name": "stdout",
     "output_type": "stream",
     "text": [
      "O valor do Morango é: R$ 15.84\n",
      "O valor da Maçã é: R$ 12.15\n"
     ]
    }
   ],
   "source": [
    "#Exercicio 12\n",
    "morango = float(input(\"Digite quantos Kg de morango? \"))\n",
    "maca = float(input(\"Digite quantos Kg de maça?\" ))\n",
    "valorMorango = 0.0\n",
    "valorMaca = 0.0\n",
    "if(morango <= 5):\n",
    "    valorMorango = morango*2.5\n",
    "else:\n",
    "    valorMorango = morango*2.2\n",
    "    if(morango >= 8 or valorMorango >= 25):\n",
    "        valorMorango = valorMorango - (10/100 * valorMorango)\n",
    "if(maca <= 5):\n",
    "    valorMaca = maca*1.8\n",
    "else:\n",
    "    valorMaca = maca*1.5\n",
    "    if(maca >= 8 or valorMaca >= 25):\n",
    "        valorMaca = valorMaca - (10/100 * valorMaca)\n",
    "print(f\"O valor do Morango é: R$ {valorMorango:.2f}\\nO valor da Maçã é: R$ {valorMaca:.2f}\")"
   ]
  },
  {
   "cell_type": "code",
   "execution_count": 20,
   "metadata": {},
   "outputs": [
    {
     "name": "stdin",
     "output_type": "stream",
     "text": [
      "Digite uma nota entre 0 e 10:  8\n"
     ]
    },
    {
     "name": "stdout",
     "output_type": "stream",
     "text": [
      "Nota:  8.0\n"
     ]
    }
   ],
   "source": [
    "#Exercicio 13\n",
    "nota = float(input(\"Digite uma nota entre 0 e 10: \"))\n",
    "while(nota < 0 or nota > 10):\n",
    "    nota = float(input(\"Entre 0 e 10 mula: \"))\n",
    "print(\"Nota: \", nota)"
   ]
  },
  {
   "cell_type": "code",
   "execution_count": 24,
   "metadata": {},
   "outputs": [
    {
     "name": "stdin",
     "output_type": "stream",
     "text": [
      "Digite um nome com mais de 3 caracteres:  Erik\n",
      "Digite uma idade entre 0 e 150 anos:  21\n",
      "DIgite um salário maior que R$ 0,00:  01\n",
      "Digite 'f' para sexo FEMININO e para 'm' para MASCULINO:  m\n",
      "Digite 's' para 'SOLTEIRO(A)', 'c' para 'CASADO(A)', 'v' para 'VIÚVO(A)' ou 'd' para 'DIVORCIADO(A)' s\n"
     ]
    },
    {
     "name": "stdout",
     "output_type": "stream",
     "text": [
      "Erik\n",
      "Idade: 21\n",
      "Salario: 1.0\n",
      "Sexo masculino\n",
      "O Estado Civil selecionado é:  SOLTEIRO(A)\n"
     ]
    }
   ],
   "source": [
    "#Exercicio 13\n",
    "nome = input(\"Digite um nome com mais de 3 caracteres: \")\n",
    "idade = int(input(\"Digite uma idade entre 0 e 150 anos: \"))\n",
    "salario = float(input(\"DIgite um salário maior que R$ 0,00: \"))\n",
    "sexo = input(\"Digite 'f' para sexo FEMININO e para 'm' para MASCULINO: \")\n",
    "e_civil = input(\"Digite 's' para 'SOLTEIRO(A)', 'c' para 'CASADO(A)', 'v' para 'VIÚVO(A)' ou 'd' para 'DIVORCIADO(A)'\")\n",
    "dici_civil = {\n",
    "    's': 'SOLTEIRO(A)',\n",
    "    'c': 'CASADO(A)',\n",
    "    'v': 'VIÚVO(A)',\n",
    "    'd': 'DIVORCIADO(A)'\n",
    "}\n",
    "if(len(nome) > 3):\n",
    "    print(nome)\n",
    "else:\n",
    "    print(\"O nome NÃO possui mais que 3 caracteres\")\n",
    "if(idade >= 0 and idade <= 150):\n",
    "    print(\"Idade:\",idade)\n",
    "else:\n",
    "    print(\"A idade NÃO está entre 0 e 150 anos\")\n",
    "if(salario > 0):\n",
    "    print(\"Salario:\",salario)\n",
    "else:\n",
    "    print(\"O salário NÃO é maior que R$ 0.00\")\n",
    "if(sexo == 'f'):\n",
    "    print(\"Sexo feminino\")\n",
    "elif(sexo == 'm'):\n",
    "    print(\"Sexo masculino\")\n",
    "else:\n",
    "    print(\"Sexo não tem formato válido\")\n",
    "if(e_civil in dici_civil.keys()):\n",
    "    print(\"O Estado Civil selecionado é: \", dici_civil[e_civil])\n",
    "else:\n",
    "    print(\"O Estado Civil não correponde a um valor válido\")"
   ]
  },
  {
   "cell_type": "code",
   "execution_count": 25,
   "metadata": {},
   "outputs": [
    {
     "name": "stdin",
     "output_type": "stream",
     "text": [
      "Digite um número:  5\n",
      "Digite um número:  5\n",
      "Digite um número:  4\n",
      "Digite um número:  2\n",
      "Digite um número:  0\n"
     ]
    },
    {
     "name": "stdout",
     "output_type": "stream",
     "text": [
      "O maior número é  5.0\n"
     ]
    }
   ],
   "source": [
    "#Exercicio 14\n",
    "lista = []\n",
    "while(len(lista) < 5):\n",
    "    numero = float(input(\"Digite um número: \"))\n",
    "    lista += [numero]\n",
    "lista = sorted(lista, key=float)\n",
    "print(\"O maior número é \", lista[4])"
   ]
  },
  {
   "cell_type": "code",
   "execution_count": 33,
   "metadata": {},
   "outputs": [
    {
     "name": "stdin",
     "output_type": "stream",
     "text": [
      "Digite um número:  5\n",
      "Digite um número:  4\n",
      "Digite um número:  3\n",
      "Digite um número:  2\n",
      "Digite um número:  1\n"
     ]
    },
    {
     "name": "stdout",
     "output_type": "stream",
     "text": [
      "A soma é = 15.0\n",
      "A Média é = 3.0\n"
     ]
    }
   ],
   "source": [
    "#Exercicio 15\n",
    "lista = []\n",
    "soma = 0\n",
    "media = 0\n",
    "while(len(lista) < 5):\n",
    "    n = float(input(\"Digite um número: \"))\n",
    "    soma += n\n",
    "    lista += [n]\n",
    "media = soma / 5\n",
    "print(f\"A soma é = {soma}\")\n",
    "print(f\"A Média é = {media}\")"
   ]
  },
  {
   "cell_type": "code",
   "execution_count": 34,
   "metadata": {},
   "outputs": [
    {
     "name": "stdout",
     "output_type": "stream",
     "text": [
      "[1, 3, 5, 7, 9, 11, 13, 15, 17, 19, 21, 23, 25, 27, 29, 31, 33, 35, 37, 39, 41, 43, 45, 47, 49]\n"
     ]
    }
   ],
   "source": [
    "#Exercicio 16\n",
    "lista = [x for x in range(1,51) if x%2!=0]\n",
    "print(lista)"
   ]
  },
  {
   "cell_type": "code",
   "execution_count": 35,
   "metadata": {},
   "outputs": [
    {
     "name": "stdin",
     "output_type": "stream",
     "text": [
      "Digite um número para ver a tabuada 5\n"
     ]
    },
    {
     "name": "stdout",
     "output_type": "stream",
     "text": [
      "5 X 1 = 1.0\n",
      "5 X 2 = 2.0\n",
      "5 X 3 = 3.0\n",
      "5 X 4 = 4.0\n",
      "5 X 5 = 5.0\n",
      "5 X 6 = 6.0\n",
      "5 X 7 = 7.0\n",
      "5 X 8 = 8.0\n",
      "5 X 9 = 9.0\n",
      "5 X 10 = 10.0\n"
     ]
    }
   ],
   "source": [
    "#Exercicio 17\n",
    "numero = int(input(\"Digite um número para ver a tabuada\"))\n",
    "lista = [x*n for x in range(1,11)]\n",
    "for x in range(len(lista)):\n",
    "    print(f\"{numero} X {x+1} = {lista[x]}\")"
   ]
  },
  {
   "cell_type": "code",
   "execution_count": 36,
   "metadata": {},
   "outputs": [
    {
     "name": "stdin",
     "output_type": "stream",
     "text": [
      "Digite até onde será gerada: 5\n"
     ]
    },
    {
     "name": "stdout",
     "output_type": "stream",
     "text": [
      "0\n",
      "1\n",
      "1\n",
      "2\n",
      "3\n"
     ]
    }
   ],
   "source": [
    "#Exercicio 18\n",
    "a = 0\n",
    "b = 1\n",
    "n = int(input(\"Digite até onde será gerada:\"))\n",
    "for i in range(n):\n",
    "    print(a)\n",
    "    aux = b\n",
    "    b = a + b\n",
    "    a = aux"
   ]
  },
  {
   "cell_type": "code",
   "execution_count": 43,
   "metadata": {},
   "outputs": [
    {
     "name": "stdin",
     "output_type": "stream",
     "text": [
      "Digite um número para o fatorial dele:  5\n"
     ]
    },
    {
     "name": "stdout",
     "output_type": "stream",
     "text": [
      "O valor fatorial de 5! = 24\n"
     ]
    }
   ],
   "source": [
    "#Exercicio 19\n",
    "numero = int(input(\"Digite um número para o fatorial dele: \"))\n",
    "lista = []\n",
    "fatorial = n\n",
    "\n",
    "lista = [x for x in range(1,numero)]\n",
    "for x in range(len(lista)):\n",
    "    fatorial = fatorial*lista[x]\n",
    "print(f\"O valor fatorial de {numero}! = {fatorial}\")"
   ]
  },
  {
   "cell_type": "code",
   "execution_count": 44,
   "metadata": {},
   "outputs": [
    {
     "name": "stdout",
     "output_type": "stream",
     "text": [
      "Lojas Quase Dois - Tabela de preços\n",
      "1 - R$ 1.99\n",
      "2 - R$ 3.98\n",
      "3 - R$ 5.97\n",
      "4 - R$ 7.96\n",
      "5 - R$ 9.95\n",
      "6 - R$ 11.94\n",
      "7 - R$ 13.93\n",
      "8 - R$ 15.92\n",
      "9 - R$ 17.91\n",
      "10 - R$ 19.90\n",
      "11 - R$ 21.89\n",
      "12 - R$ 23.88\n",
      "13 - R$ 25.87\n",
      "14 - R$ 27.86\n",
      "15 - R$ 29.85\n",
      "16 - R$ 31.84\n",
      "17 - R$ 33.83\n",
      "18 - R$ 35.82\n",
      "19 - R$ 37.81\n",
      "20 - R$ 39.80\n",
      "21 - R$ 41.79\n",
      "22 - R$ 43.78\n",
      "23 - R$ 45.77\n",
      "24 - R$ 47.76\n",
      "25 - R$ 49.75\n",
      "26 - R$ 51.74\n",
      "27 - R$ 53.73\n",
      "28 - R$ 55.72\n",
      "29 - R$ 57.71\n",
      "30 - R$ 59.70\n",
      "31 - R$ 61.69\n",
      "32 - R$ 63.68\n",
      "33 - R$ 65.67\n",
      "34 - R$ 67.66\n",
      "35 - R$ 69.65\n",
      "36 - R$ 71.64\n",
      "37 - R$ 73.63\n",
      "38 - R$ 75.62\n",
      "39 - R$ 77.61\n",
      "40 - R$ 79.60\n",
      "41 - R$ 81.59\n",
      "42 - R$ 83.58\n",
      "43 - R$ 85.57\n",
      "44 - R$ 87.56\n",
      "45 - R$ 89.55\n",
      "46 - R$ 91.54\n",
      "47 - R$ 93.53\n",
      "48 - R$ 95.52\n",
      "49 - R$ 97.51\n",
      "50 - R$ 99.50\n"
     ]
    }
   ],
   "source": [
    "#Exercicio 20 \n",
    "print('Lojas Quase Dois - Tabela de preços')\n",
    "for i in range(1, 51):\n",
    "    preco = i * 1.99\n",
    "    print(f'{i} - R$ {preco:.2f}')"
   ]
  },
  {
   "cell_type": "code",
   "execution_count": 46,
   "metadata": {},
   "outputs": [
    {
     "name": "stdin",
     "output_type": "stream",
     "text": [
      "Preço do pão: R$  0.18\n"
     ]
    },
    {
     "name": "stdout",
     "output_type": "stream",
     "text": [
      "Preço do pão: R$ 0.18\n",
      "Panificadora Pão de Ontem - Tabela de preços \n",
      "1 - R$ 0.18\n",
      "2 - R$ 0.36\n",
      "3 - R$ 0.54\n",
      "4 - R$ 0.72\n",
      "5 - R$ 0.90\n",
      "6 - R$ 1.08\n",
      "7 - R$ 1.26\n",
      "8 - R$ 1.44\n",
      "9 - R$ 1.62\n",
      "10 - R$ 1.80\n",
      "11 - R$ 1.98\n",
      "12 - R$ 2.16\n",
      "13 - R$ 2.34\n",
      "14 - R$ 2.52\n",
      "15 - R$ 2.70\n",
      "16 - R$ 2.88\n",
      "17 - R$ 3.06\n",
      "18 - R$ 3.24\n",
      "19 - R$ 3.42\n",
      "20 - R$ 3.60\n",
      "21 - R$ 3.78\n",
      "22 - R$ 3.96\n",
      "23 - R$ 4.14\n",
      "24 - R$ 4.32\n",
      "25 - R$ 4.50\n",
      "26 - R$ 4.68\n",
      "27 - R$ 4.86\n",
      "28 - R$ 5.04\n",
      "29 - R$ 5.22\n",
      "30 - R$ 5.40\n",
      "31 - R$ 5.58\n",
      "32 - R$ 5.76\n",
      "33 - R$ 5.94\n",
      "34 - R$ 6.12\n",
      "35 - R$ 6.30\n",
      "36 - R$ 6.48\n",
      "37 - R$ 6.66\n",
      "38 - R$ 6.84\n",
      "39 - R$ 7.02\n",
      "40 - R$ 7.20\n",
      "41 - R$ 7.38\n",
      "42 - R$ 7.56\n",
      "43 - R$ 7.74\n",
      "44 - R$ 7.92\n",
      "45 - R$ 8.10\n",
      "46 - R$ 8.28\n",
      "47 - R$ 8.46\n",
      "48 - R$ 8.64\n",
      "49 - R$ 8.82\n",
      "50 - R$ 9.00\n"
     ]
    }
   ],
   "source": [
    "#Exercicio 21\n",
    "preco_pao = float(input('Preço do pão: R$ '))\n",
    "\n",
    "print('Preço do pão: R$',preco_pao)\n",
    "print('Panificadora Pão de Ontem - Tabela de preços ')\n",
    "for i in range(1, 51):\n",
    "    preco = i * preco_pao\n",
    "    print(f'{i} - R$ {preco:.2f}')"
   ]
  },
  {
   "cell_type": "code",
   "execution_count": 48,
   "metadata": {},
   "outputs": [
    {
     "name": "stdout",
     "output_type": "stream",
     "text": [
      "Lojas Tabajara\n"
     ]
    },
    {
     "name": "stdin",
     "output_type": "stream",
     "text": [
      "Insira o preço do item (Digite '0' para finalizar a compra):  5\n"
     ]
    },
    {
     "name": "stdout",
     "output_type": "stream",
     "text": [
      "Produto 1: R$ 5.0\n"
     ]
    },
    {
     "name": "stdin",
     "output_type": "stream",
     "text": [
      "Insira o preço do item (Digite '0' para finalizar a compra):  1\n"
     ]
    },
    {
     "name": "stdout",
     "output_type": "stream",
     "text": [
      "Produto 2: R$ 1.0\n"
     ]
    },
    {
     "name": "stdin",
     "output_type": "stream",
     "text": [
      "Insira o preço do item (Digite '0' para finalizar a compra):  2\n"
     ]
    },
    {
     "name": "stdout",
     "output_type": "stream",
     "text": [
      "Produto 3: R$ 2.0\n"
     ]
    },
    {
     "name": "stdin",
     "output_type": "stream",
     "text": [
      "Insira o preço do item (Digite '0' para finalizar a compra):  0\n"
     ]
    },
    {
     "name": "stdout",
     "output_type": "stream",
     "text": [
      "Total: R$ 8.0\n"
     ]
    },
    {
     "name": "stdin",
     "output_type": "stream",
     "text": [
      "Insira o valor a ser pago:  2\n"
     ]
    },
    {
     "name": "stdout",
     "output_type": "stream",
     "text": [
      "Dinheiro: R$ 2.0\n",
      "Troco: R$ -6.0\n"
     ]
    }
   ],
   "source": [
    "#Exercicio 22\n",
    "print('Lojas Tabajara')\n",
    "\n",
    "total = 0\n",
    "preco = -1\n",
    "i = 0\n",
    "\n",
    "while preco != 0:\n",
    "    preco = float(input(\"Insira o preço do item (Digite '0' para finalizar a compra): \"))\n",
    "    total += preco\n",
    "    i += 1\n",
    "    if preco == 0:\n",
    "        print(f'Total: R$ {total}')\n",
    "        pago = float(input(\"Insira o valor a ser pago: \"))\n",
    "        print(f'Dinheiro: R$ {pago}')\n",
    "        print('Troco: R$', pago - total)\n",
    "    else:\n",
    "        print(f'Produto {i}: R$ {preco}')"
   ]
  },
  {
   "cell_type": "code",
   "execution_count": 54,
   "metadata": {},
   "outputs": [
    {
     "name": "stdin",
     "output_type": "stream",
     "text": [
      "\n",
      "Digite o nome da cidade:  A\n",
      "Digite o código da cidade:  1\n",
      "Numero de veiculos de passeio:  1\n",
      "Numero de acidentes de transito com vitimas:  1\n",
      "\n",
      "Digite o nome da cidade:  A\n",
      "Digite o código da cidade:  1\n",
      "Numero de veiculos de passeio:  1\n",
      "Numero de acidentes de transito com vitimas:  1\n",
      "\n",
      "Digite o nome da cidade:  A\n",
      "Digite o código da cidade:  1\n",
      "Numero de veiculos de passeio:  1\n",
      "Numero de acidentes de transito com vitimas:  1\n",
      "\n",
      "Digite o nome da cidade:  A\n",
      "Digite o código da cidade:  1\n",
      "Numero de veiculos de passeio:  1\n",
      "Numero de acidentes de transito com vitimas:  1\n",
      "\n",
      "Digite o nome da cidade:  A\n",
      "Digite o código da cidade:  1\n",
      "Numero de veiculos de passeio:  1\n",
      "Numero de acidentes de transito com vitimas:  1\n"
     ]
    },
    {
     "name": "stdout",
     "output_type": "stream",
     "text": [
      "=-=-=-=-=-=-=-=-=-=-=-=-=-=-=-=-=-=-=-=-=-=-=-=-=-=-=-=-=-=-\n",
      "A cidade com o menor indice de acidentes de transito foi A, com 1 acidentes \n",
      "=-=-=-=-=-=-=-=-=-=-=-=-=-=-=-=-=-=-=-=-=-=-=-=-=-=-=-=-=-=-\n",
      "A cidade com o maior indice de acidentes de transito foi A, com 1 acidentes \n",
      "=-=-=-=-=-=-=-=-=-=-=-=-=-=-=-=-=-=-=-=-=-=-=-=-=-=-=-=-=-=-\n",
      "Media de veiculos nas cincos cidades é 1.0\n",
      "=-=-=-=-=-=-=-=-=-=-=-=-=-=-=-=-=-=-=-=-=-=-=-=-=-=-=-=-=-=-\n",
      "Media de acidentes de transitos nas cidades com menos de 2000 é 1.0\n"
     ]
    }
   ],
   "source": [
    "# Exercicio 23\n",
    "maior = menor = count = soma_veiculos = soma_acidentes = soma_2k = 0\n",
    "cid_maior = cid_menor = ''\n",
    "\n",
    "for c in range(1,6):\n",
    "    cidade      = input(\"\\nDigite o nome da cidade: \")\n",
    "    codigo      = int(input(\"Digite o código da cidade: \"))\n",
    "    veiculos    = int(input(\"Numero de veiculos de passeio: \"))\n",
    "    acidentes   = int(input(\"Numero de acidentes de transito com vitimas: \"))\n",
    "\n",
    "    soma_veiculos += veiculos\n",
    "    soma_acidentes += acidentes\n",
    "\n",
    "    if acidentes > maior:\n",
    "        maior = acidentes\n",
    "        cid_maior = cidade\n",
    "\n",
    "    if acidentes < menor or c == 1:\n",
    "        menor = acidentes\n",
    "        cid_menor = cidade\n",
    "\n",
    "    if veiculos < 2000:\n",
    "        soma_2k += acidentes\n",
    "        count += 1\n",
    "        \n",
    "media_nas_5_cidades = soma_veiculos / c\n",
    "media_2k = soma_2k / count\n",
    "\n",
    "print(30 * '=-' + '\\n'\n",
    "    + f'A cidade com o menor indice de acidentes de transito foi {cid_menor}, com {menor} acidentes \\n'\n",
    "    + 30 * '=-' + '\\n'\n",
    "    + f'A cidade com o maior indice de acidentes de transito foi {cid_maior}, com {maior} acidentes \\n'\n",
    "    + 30 * '=-' + '\\n'\n",
    "    + f'Media de veiculos nas cincos cidades é {media_nas_5_cidades}\\n'\n",
    "    + 30 * '=-' + '\\n'\n",
    "    + f'Media de acidentes de transitos nas cidades com menos de 2000 é {media_2k}')"
   ]
  },
  {
   "cell_type": "code",
   "execution_count": 56,
   "metadata": {},
   "outputs": [
    {
     "name": "stdin",
     "output_type": "stream",
     "text": [
      "Digite o valor 5\n"
     ]
    },
    {
     "name": "stdout",
     "output_type": "stream",
     "text": [
      "Valor da Dívida Valor dos Juros Quantidade de Parcelas  Valor da Parcela\n",
      " R$       5.00   R$       0.00     1                     R$       5.00\n",
      " R$       5.50   R$       0.50     3                     R$       1.83\n",
      " R$       5.75   R$       0.75     6                     R$       0.96\n",
      " R$       6.00   R$       1.00     9                     R$       0.67\n",
      " R$       6.25   R$       1.25    12                     R$       0.52\n"
     ]
    }
   ],
   "source": [
    "# Exercicio 24\n",
    "divida = float(input(\"Digite o valor\"))\n",
    "valor=0.0\n",
    "juros = 0.0\n",
    "valorParcela = 0.0\n",
    "parcelaJuros = [(1,0), (3,10), (6,15), (9,20), (12,25)]\n",
    "print(\"Valor da Dívida Valor dos Juros Quantidade de Parcelas  Valor da Parcela\")\n",
    "for parcela,y in parcelaJuros:\n",
    "    juros = y/100*divida\n",
    "    valor = divida + juros\n",
    "    valorParcela = valor/parcela\n",
    "    print(\n",
    "        f\" R$ {valor:10.2f}   R$ {juros:10.2f}   {parcela:3}                     R$ {valorParcela:10.2f}\"\n",
    "    )"
   ]
  },
  {
   "cell_type": "code",
   "execution_count": null,
   "metadata": {},
   "outputs": [],
   "source": [
    "#Exercicio 25 ufa\n",
    "termo = int(input('Insira a quantidade de termos desejada: '))\n",
    "\n",
    "somaStr = \"S = \"\n",
    "s = 0\n",
    "m = 1\n",
    "for n in range(1, termo + 1):\n",
    "    s += n / m\n",
    "    somaStr += str(n) + \"/\" + str(m)\n",
    "    if n != termo:\n",
    "        somaStr += \" + \"\n",
    "    m += 2\n",
    "\n",
    "print(somaStr)\n",
    "print('Soma da série: %s' % s)"
   ]
  },
  {
   "cell_type": "code",
   "execution_count": null,
   "metadata": {},
   "outputs": [],
   "source": []
  }
 ],
 "metadata": {
  "kernelspec": {
   "display_name": "Python 3",
   "language": "python",
   "name": "python3"
  },
  "language_info": {
   "codemirror_mode": {
    "name": "ipython",
    "version": 3
   },
   "file_extension": ".py",
   "mimetype": "text/x-python",
   "name": "python",
   "nbconvert_exporter": "python",
   "pygments_lexer": "ipython3",
   "version": "3.7.6"
  }
 },
 "nbformat": 4,
 "nbformat_minor": 4
}
